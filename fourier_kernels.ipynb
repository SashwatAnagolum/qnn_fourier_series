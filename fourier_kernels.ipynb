{
 "cells": [
  {
   "cell_type": "markdown",
   "metadata": {},
   "source": [
    "# Quantum kernels as partial fourier series\n",
    "\n",
    "#### [Sashwat Anagolum](https://github.com/SashwatAnagolum)\n",
    "Mentored by [**Yunong Shi**](https://godott.github.io/) as part of the QOSF mentorship program, spring '21\n",
    "\n",
    "## Introduction\n",
    "\n",
    "This notebook was developed as a (tiny) part of the research that Yunong Shi and I worked on over the course of the last two and a half months, and continue to work on, as a part of the QOSF mentorship program. \n",
    "\n",
    "\\[[1]\\] showed that a quantum neural network $f_{\\theta}(x)$ is equivalent to partial fourier series in the data $x$:\n",
    "\n",
    "$$f(x) = \\sigma_{\\omega \\: \\in \\: \\Omega} c_{\\omega} (\\theta) e^{i \\omega x}$$\n",
    "\n",
    "Where $\\Omega$ is the set of frequencies accesible to the model, and $c_{\\omega}$ are complex-valued weights determining the contribution of each frequency to the model function. \n",
    "\n",
    "**Some more intro stuff**\n",
    "\n",
    "### Required imports\n",
    "\n",
    "[1]: https://arxiv.org/abs/2008.08605\n",
    "[2]: https://arxiv.org/abs/2106.03747\n",
    "[3]: https://arxiv.org/abs/2011.01938\n",
    "[4]: https://arxiv.org/abs/2101.11020"
   ]
  },
  {
   "cell_type": "code",
   "execution_count": 5,
   "metadata": {},
   "outputs": [],
   "source": [
    "import numpy as np\n",
    "from scipy import linalg\n",
    "\n",
    "from functools import reduce\n",
    "\n",
    "import pennylane as qml\n",
    "\n",
    "import matplotlib.pyplot as plt\n",
    "from matplotlib.lines import Line2D\n",
    "from mpl_toolkits.mplot3d import Axes3D"
   ]
  },
  {
   "cell_type": "markdown",
   "metadata": {},
   "source": [
    "### Circuit layers\n",
    "\n",
    "These functions define the different layers we can use in the circuits we construct our kernels from:"
   ]
  },
  {
   "cell_type": "code",
   "execution_count": 6,
   "metadata": {},
   "outputs": [],
   "source": [
    "def ry_layer(_, params):\n",
    "    for i, theta in enumerate(params):\n",
    "        qml.RY(theta, wires=i)\n",
    "    \n",
    "\n",
    "def rx_layer(_, params):\n",
    "     for i, theta in enumerate(params):\n",
    "        qml.RX(theta, wires=i)  \n",
    "        \n",
    "\n",
    "def rz_layer(_, params):\n",
    "     for i, theta in enumerate(params):\n",
    "        qml.RZ(theta, wires=i) \n",
    "        \n",
    "\n",
    "def cr_layer(gate, cr_map, num_qubits, params):\n",
    "    gate = {'crz': qml.CRZ, 'cry': qml.CRY, 'crx': qml.CRX}[gate]\n",
    "\n",
    "    if cr_map == 'linear':\n",
    "        for i, theta in enumerate(params):\n",
    "            gate(theta, wires=[i, i + 1])\n",
    "    elif cr_map == 'full':\n",
    "        for i in range(num_qubits - 1):\n",
    "            offset = sum(range(num_qubits - i, num_qubits))\n",
    "            for j in range(num_qubits - i - 1):\n",
    "                gate(params[offset + j], wires=[i, i + j + 1])\n",
    "\n",
    "\n",
    "def hadamard_layer(num_qubits, _):\n",
    "    for i in range(num_qubits):\n",
    "        qml.Hadamard(wires=i)\n",
    "        \n",
    "\n",
    "def c_layer(gate, c_map, num_qubits, _):\n",
    "    gate = {'cz': qml.CZ, 'cy': qml.CY, 'cx': qml.CNOT}[gate]\n",
    "    \n",
    "    if c_map == 'full':\n",
    "        for i in range(num_qubits - 1):\n",
    "            for j in range(num_qubits - i - 1):\n",
    "                gate(wires=[i, i + j + 1])        \n",
    "    else:\n",
    "        for i in range(num_qubits - 1):\n",
    "            gate(wires=[i, i + 1])\n",
    "\n",
    "        if c_map == 'circular':\n",
    "            gate(wires=[num_qubits - 1, 0])        "
   ]
  },
  {
   "cell_type": "markdown",
   "metadata": {},
   "source": [
    "### Create quantum circuits"
   ]
  },
  {
   "cell_type": "code",
   "execution_count": 13,
   "metadata": {},
   "outputs": [],
   "source": [
    "def qc_generator(num_qubits, layers, layer_extra_params, weights_bounds, inputs_bounds, ret_type, \n",
    "                        state_in, input_transform):\n",
    "    device = qml.device('default.qubit', wires=num_qubits)\n",
    "    \n",
    "    @qml.qnode(device)\n",
    "    def qc(inputs, weights):                \n",
    "        if state_in:\n",
    "            qml.QubitStateVector(inputs[1], wires=range(num_qubits))\n",
    "        \n",
    "            inputs = inputs[0]\n",
    "        else:\n",
    "            inputs = input_transform(inputs)\n",
    "        \n",
    "        for i, layer in enumerate(layers):\n",
    "            data_in = np.concatenate((weights[weights_bounds[i]: weights_bounds[i + 1]],\n",
    "                                      inputs[inputs_bounds[i]: inputs_bounds[i + 1]]))\n",
    "\n",
    "            layer(*layer_extra_params[i], data_in)     \n",
    "        \n",
    "        if ret_type == 'exp': \n",
    "            return [qml.expval(qml.PauliZ(wires=i)) for i in range(2)]\n",
    "        elif ret_type == 'state':\n",
    "            return qml.state()\n",
    "        elif isinstance(ret_type, list) or isinstance(ret_type, tuple):\n",
    "            return qml.density_matrix(wires=ret_type)\n",
    "        elif ret_type == 'exp1':\n",
    "            return qml.expval(qml.PauliZ(wires=0))\n",
    "    \n",
    "    return qc"
   ]
  },
  {
   "cell_type": "markdown",
   "metadata": {},
   "source": [
    "### Utilities"
   ]
  },
  {
   "cell_type": "code",
   "execution_count": 8,
   "metadata": {},
   "outputs": [],
   "source": [
    "def get_circuit_unitary(layers, layer_params, weights, weight_boundaries, inputs, input_boundaries, num_qubits):\n",
    "    basis_states = np.eye(2 ** num_qubits)\n",
    "    circ = qc_generator(num_qubits, layers, layer_params, weight_boundaries, input_boundaries, \n",
    "                               'state', True, None)\n",
    "    unitary = np.stack([circ([inputs, state], weights) for state in basis_states])\n",
    "    \n",
    "    return unitary\n",
    "\n",
    "\n",
    "def get_hamiltonian(layer, layer_extra_params):\n",
    "    pauli_x = np.array([[0, 1], [1, 0]])\n",
    "    pauli_y = np.array([[0, 0-1j], [0+1j, 0]])\n",
    "    pauli_z = np.array([[1, 0], [0, -1]])\n",
    "    \n",
    "    if layer == rx_layer:\n",
    "        h =  pauli_x\n",
    "    elif layer == ry_layer:\n",
    "        h = pauli_y\n",
    "    elif layer == rz_layer:\n",
    "        h = pauli_z\n",
    "    else:\n",
    "        h = layer_extra_params[0]\n",
    "        \n",
    "    return h"
   ]
  },
  {
   "cell_type": "markdown",
   "metadata": {},
   "source": [
    "### Frequency computation"
   ]
  },
  {
   "cell_type": "code",
   "execution_count": 9,
   "metadata": {},
   "outputs": [],
   "source": [
    "def diagonalize_layers(layers, layer_extra_params, num_qubits):\n",
    "    vs = []\n",
    "    diag_Hs = []\n",
    "    \n",
    "    for i, layer in enumerate(layers):\n",
    "        hamiltonian = get_hamiltonian(layer, layer_extra_params[i])\n",
    "        vals, vects = np.linalg.eig(hamiltonian)\n",
    "        v = vects\n",
    "        \n",
    "        for i in range(num_qubits - 1):\n",
    "            v = np.kron(v, vects)\n",
    "\n",
    "        vs.append(v)\n",
    "        diag_H = np.zeros((2 ** num_qubits, 2 ** num_qubits)).astype('complex128')\n",
    "        \n",
    "        for j in range(num_qubits):\n",
    "            ops = [np.eye(2) for i in range(j)] + [np.diag(vals)] + [np.eye(2) for i in range(j + 1, num_qubits)]\n",
    "            diag_H += reduce(lambda a, b: np.kron(a, b), ops)\n",
    "            \n",
    "        diag_Hs.append(0.5 * np.diag(diag_H))\n",
    "\n",
    "    return diag_Hs, vs\n",
    "\n",
    "            \n",
    "def compute_freqs(eig_vals, num_qubits_per_feat=1):\n",
    "    num_embeddings = len(eig_vals)\n",
    "    num_qubits = int(np.log2(len(eig_vals[0])))\n",
    "    num_feats = num_qubits // num_qubits_per_feat\n",
    "    kernel_freqs = []\n",
    "    pauli_eigs = [0.5, -0.5]  \n",
    "    \n",
    "    for i in range((2 ** num_qubits) ** num_embeddings):\n",
    "        i_b = []\n",
    "        sub_i_bs = []\n",
    "        current_num = i\n",
    "        \n",
    "        for j in range(num_embeddings):\n",
    "            i_b.append(current_num // ((2 ** num_qubits) ** (num_embeddings - j - 1)))\n",
    "            current_num %= ((2 ** num_qubits) ** (num_embeddings - j - 1))\n",
    "            \n",
    "        for j in i_b:\n",
    "            sub_i_b = []\n",
    "            current_num = j\n",
    "            \n",
    "            for k in range(num_feats):\n",
    "                sub_i_b.append(current_num // (2 ** (num_feats - k - 1)))\n",
    "                current_num %= (2 ** (num_feats - k - 1))\n",
    "                \n",
    "            sub_i_bs.append(sub_i_b)\n",
    "        \n",
    "        if num_qubits_per_feat == 1:\n",
    "            kernel_freqs.append([sum([pauli_eigs[sub_i_bs[j][i]] \n",
    "                                            for j in range(num_embeddings)]) for i in range(num_feats)])\n",
    "        else:\n",
    "            eigval_sum_i = sum([np.round(eig_vals[idx][i], 1) for idx, i in enumerate(i_b)])\n",
    "            kernel_freqs.append(eigval_sum_i)   \n",
    "\n",
    "    return [tuple(freqs) for freqs in kernel_freqs]"
   ]
  },
  {
   "cell_type": "markdown",
   "metadata": {},
   "source": [
    "### Coefficient computation"
   ]
  },
  {
   "cell_type": "code",
   "execution_count": null,
   "metadata": {},
   "outputs": [],
   "source": [
    "def get_embedding_layers(layers, input_bounds):\n",
    "    indices = []\n",
    "    embedding_layers = []\n",
    "    \n",
    "    for i, layer in enumerate(layers):\n",
    "        if input_bounds[i + 1] - input_bounds[i]:\n",
    "            embedding_layers.append(layer)\n",
    "            indices.append(i)\n",
    "            \n",
    "    return embedding_layers, indices\n",
    "\n",
    "\n",
    "def get_unitaries(layers, layer_params, weights, weight_bounds, input_bounds, num_qubits):\n",
    "    init_unitaries = []\n",
    "    indices = []\n",
    "    trimmed_indices = []\n",
    "    inputs = [0 for i in range(input_bounds[-1])]\n",
    "    i = 0\n",
    "    \n",
    "    for i, layer in enumerate(layers):\n",
    "        if input_bounds[i] == input_bounds[i + 1]:\n",
    "            indices.append(i)\n",
    "            \n",
    "    last_break = indices[0]\n",
    "    \n",
    "    for i in range(1, len(indices)):\n",
    "        if indices[i] - indices[i - 1] > 1:\n",
    "            trimmed_indices.append([last_break, indices[i - 1] + 1])\n",
    "            last_break = indices[i]\n",
    "            \n",
    "    trimmed_indices.append([last_break, indices[-1] + 1])\n",
    "            \n",
    "    for i in range(len(trimmed_indices)):\n",
    "        unitary_layers = layers[trimmed_indices[i][0]: trimmed_indices[i][1]]\n",
    "        unitary_layer_params = layer_params[trimmed_indices[i][0]: trimmed_indices[i][1]]\n",
    "        unitary_weight_bounds = weight_bounds[trimmed_indices[i][0]:trimmed_indices[i][1] + 1]\n",
    "        unitary_input_bounds = input_bounds[trimmed_indices[i][0]:trimmed_indices[i][1] + 1]\n",
    "        init_unitaries.append(get_circuit_unitary(unitary_layers, unitary_layer_params, weights, \n",
    "                                                  unitary_weight_bounds, inputs, unitary_input_bounds, \n",
    "                                                  num_qubits).T)\n",
    "        \n",
    "    return init_unitaries, trimmed_indices\n",
    "\n",
    "\n",
    "def update_unitaries(init_unitaries, v_daggers, unitary_indices):\n",
    "    if not len(v_daggers):\n",
    "        return init_unitaries\n",
    "    \n",
    "    init_unitaries = [init_unitary for init_unitary in init_unitaries]\n",
    "    updated_unitaries = [] \n",
    "    if unitary_indices[0][0]:\n",
    "        init_unitaries.insert(0, np.eye(init_unitaries[0].shape[0]))\n",
    "        \n",
    "    updated_unitaries.append(np.matmul(init_unitaries[0], v_daggers[0]))\n",
    "    \n",
    "    for i in range(1, len(init_unitaries) - 1):\n",
    "        updated_unitaries.append(np.matmul(np.conj(v_daggers[i - 1].T), np.matmul(init_unitaries[i], v_daggers[i])))\n",
    "    \n",
    "    updated_unitaries.append(np.matmul(np.conj(v_daggers[-1].T), init_unitaries[len(v_daggers)]))\n",
    "    \n",
    "    return updated_unitaries\n",
    "\n",
    "\n",
    "def compute_kernel_coeffs(unitaries, eig_vals, kernel_freqs, num_feats):\n",
    "    coeffs = [{freq:0 for freq in list(set(kernel_freqs))} for i in range(eig_vals[0].shape[0])]\n",
    "    num_embeddings = len(eig_vals)\n",
    "    freqs = []\n",
    "    \n",
    "    for i in range(eig_vals[0].shape[0]):\n",
    "        for j in range((2 ** num_qubits) ** num_embeddings):\n",
    "            j_b = [0]\n",
    "            current_num = j\n",
    "            \n",
    "            for k in range(num_embeddings):\n",
    "                j_b.append(current_num // ((2 ** num_qubits) ** (num_embeddings - k - 1)))\n",
    "                current_num %= ((2 ** num_qubits) ** (num_embeddings - k - 1))\n",
    "             \n",
    "            j_b.append(i)\n",
    "            freq_combo = kernel_freqs[j]\n",
    "            prod = 1\n",
    "            for idx, unitary in enumerate(unitaries):\n",
    "                prod *= unitary[j_b[idx + 1], j_b[idx]]\n",
    "\n",
    "            coeffs[i][freq_combo] += prod\n",
    "\n",
    "    return coeffs"
   ]
  },
  {
   "cell_type": "markdown",
   "metadata": {},
   "source": [
    "### Create quantum states from collections of frequencies and coefficients"
   ]
  },
  {
   "cell_type": "code",
   "execution_count": 11,
   "metadata": {},
   "outputs": [],
   "source": [
    "def get_state_from_coeffs(inputs, coeffs, num_feats):\n",
    "    state = np.zeros(len(coeffs)).astype('complex128')\n",
    "    \n",
    "    for i in range(len(coeffs)):\n",
    "        for freq_combo, weight in coeffs[i].items():\n",
    "            state[i] += weight * np.exp(1j * sum([freq * inputs[idx] for idx, freq in enumerate(list(freq_combo))]))\n",
    "    \n",
    "    return state"
   ]
  },
  {
   "cell_type": "markdown",
   "metadata": {},
   "source": [
    "### Testing the quantum circuit -> partial fourier series method\n",
    "\n",
    "If the conversion works right, then we should get the same state by running a quantum circuit and outputting a statevector and by converting it into a $2^n$-dimensional partial fourier series and evaluating the value of the series at the data input values.\n",
    "\n",
    "First, we run a small (or big!) quantum circuit with random weights and input values:"
   ]
  },
  {
   "cell_type": "code",
   "execution_count": 33,
   "metadata": {},
   "outputs": [
    {
     "data": {
      "text/plain": [
       "tensor([0.15783258-0.10356199j, 0.23046876-0.34088072j,\n",
       "        0.19748896-0.31502066j, 0.13260807-0.79951452j], requires_grad=True)"
      ]
     },
     "execution_count": 33,
     "metadata": {},
     "output_type": "execute_result"
    }
   ],
   "source": [
    "layers = [ry_layer, rx_layer, ry_layer, rx_layer, ry_layer, rx_layer]\n",
    "layer_params = [[None], [None], [None], [None], [None], [None]]\n",
    "weight_boundaries = [0, 0, 2, 2, 4, 4, 6]\n",
    "input_boundaries = [0, 2, 2, 4, 4, 6, 6]\n",
    "num_qubits = 2\n",
    "weights = np.random.sample(6)\n",
    "inputs = [np.random.sample(), np.random.sample()] * 3\n",
    "\n",
    "circ = qc_generator(num_qubits, layers, layer_params, weight_boundaries, input_boundaries, 'state', False, lambda x: x)\n",
    "state_qc = circ(inputs, weights)\n",
    "state_qc"
   ]
  },
  {
   "cell_type": "markdown",
   "metadata": {},
   "source": [
    "Now we use the same weights and inputs to figure out an equivalent partial fourier series:"
   ]
  },
  {
   "cell_type": "code",
   "execution_count": 36,
   "metadata": {},
   "outputs": [
    {
     "data": {
      "text/plain": [
       "array([0.15783258-0.10356199j, 0.23046876-0.34088072j,\n",
       "       0.19748896-0.31502066j, 0.13260807-0.79951452j])"
      ]
     },
     "execution_count": 36,
     "metadata": {},
     "output_type": "execute_result"
    }
   ],
   "source": [
    "embedding_layers, embedding_indices = get_embedding_layers(layers, input_boundaries)\n",
    "diag_hs, v_daggers = diagonalize_layers(embedding_layers, layer_params, num_qubits)\n",
    "\n",
    "init_unitaries, unitary_indices = get_unitaries(layers, layer_params, weights, weight_boundaries, \n",
    "                                                input_boundaries, num_qubits)\n",
    "\n",
    "updated_unitaries = update_unitaries(init_unitaries, v_daggers, unitary_indices)\n",
    "\n",
    "kernel_freqs = compute_freqs(diag_hs, 1)\n",
    "coeffs = compute_kernel_coeffs(updated_unitaries, diag_hs, kernel_freqs, 2)\n",
    "\n",
    "state_fourier = get_state_from_coeffs(inputs, coeffs, 2)\n",
    "state_fourier"
   ]
  },
  {
   "cell_type": "markdown",
   "metadata": {},
   "source": [
    "Now we can compare the two:"
   ]
  },
  {
   "cell_type": "code",
   "execution_count": 35,
   "metadata": {},
   "outputs": [
    {
     "data": {
      "text/plain": [
       "tensor(3.52285956e-16, requires_grad=True)"
      ]
     },
     "execution_count": 35,
     "metadata": {},
     "output_type": "execute_result"
    }
   ],
   "source": [
    "np.mean(np.abs(state_qc - state_fourier))"
   ]
  },
  {
   "cell_type": "markdown",
   "metadata": {},
   "source": [
    "As you can see, the two vectors are the same.\n",
    "\n",
    "We can also take a look at the different frequencies and coefficients the ansatz gives rise to:"
   ]
  },
  {
   "cell_type": "code",
   "execution_count": 30,
   "metadata": {},
   "outputs": [
    {
     "name": "stdout",
     "output_type": "stream",
     "text": [
      "U(θ)_0: \n",
      "-----------------------\n",
      "(0.35806254006305116+0j) * exp(i * -0.5 * x_0)\n",
      "(0.35806254006305116+0j) * exp(i * -0.5 * x_1)\n",
      "(0.16749670886059745+0j) * exp(i * -0.5 * x_0)\n",
      "(0.16749670886059745+0j) * exp(i * 0.5 * x_1)\n",
      "(0.12972697077521372+0j) * exp(i * 0.5 * x_0)\n",
      "(0.12972697077521372+0j) * exp(i * 0.5 * x_1)\n",
      "(0.27732108282269285+0j) * exp(i * 0.5 * x_0)\n",
      "(0.27732108282269285+0j) * exp(i * -0.5 * x_1)\n",
      "\n",
      "U(θ)_1: \n",
      "-----------------------\n",
      "0.1674967088605976j * exp(i * -0.5 * x_0)\n",
      "0.1674967088605976j * exp(i * -0.5 * x_1)\n",
      "-0.358062540063051j * exp(i * -0.5 * x_0)\n",
      "-0.358062540063051j * exp(i * 0.5 * x_1)\n",
      "-0.2773210828226928j * exp(i * 0.5 * x_0)\n",
      "-0.2773210828226928j * exp(i * 0.5 * x_1)\n",
      "0.1297269707752138j * exp(i * 0.5 * x_0)\n",
      "0.1297269707752138j * exp(i * -0.5 * x_1)\n",
      "\n",
      "U(θ)_2: \n",
      "-----------------------\n",
      "0.2773210828226931j * exp(i * -0.5 * x_0)\n",
      "0.2773210828226931j * exp(i * -0.5 * x_1)\n",
      "0.12972697077521378j * exp(i * -0.5 * x_0)\n",
      "0.12972697077521378j * exp(i * 0.5 * x_1)\n",
      "-0.16749670886059737j * exp(i * 0.5 * x_0)\n",
      "-0.16749670886059737j * exp(i * 0.5 * x_1)\n",
      "-0.358062540063051j * exp(i * 0.5 * x_0)\n",
      "-0.358062540063051j * exp(i * -0.5 * x_1)\n",
      "\n",
      "U(θ)_3: \n",
      "-----------------------\n",
      "(-0.12972697077521386+0j) * exp(i * -0.5 * x_0)\n",
      "(-0.12972697077521386+0j) * exp(i * -0.5 * x_1)\n",
      "(0.2773210828226929+0j) * exp(i * -0.5 * x_0)\n",
      "(0.2773210828226929+0j) * exp(i * 0.5 * x_1)\n",
      "(-0.3580625400630509+0j) * exp(i * 0.5 * x_0)\n",
      "(-0.3580625400630509+0j) * exp(i * 0.5 * x_1)\n",
      "(0.16749670886059748+0j) * exp(i * 0.5 * x_0)\n",
      "(0.16749670886059748+0j) * exp(i * -0.5 * x_1)\n",
      "\n"
     ]
    }
   ],
   "source": [
    "for i, coeff_set in enumerate(coeffs):\n",
    "    print('U(θ)_{}: \\n-----------------------'.format(i))\n",
    "    for freq, coeff in coeff_set.items():\n",
    "        print('\\n'.join(['{} * exp(i * {} * x_{})'.format(coeff, f, idx) for idx, f in enumerate(list(freq))]))\n",
    "    \n",
    "    print()"
   ]
  },
  {
   "cell_type": "markdown",
   "metadata": {},
   "source": [
    "## Conclusions\n",
    "\n",
    "In this notebook, I presented what is, to the best of my knowledge, the first implementation of a full-fledged demonsration of the the quantum circuit $\\rightarrow$ partial fourier series equivalence proven in \\[[1]\\]. I hope that this helps you explore the properties of variation quantum circuits (and quantum kernel methods) more easily, in particular by allowing for easy access to the coefficients of the partial fourier series of the quantum circuits we create.\n",
    "\n",
    "[1]: https://arxiv.org/abs/2008.08605"
   ]
  },
  {
   "cell_type": "markdown",
   "metadata": {},
   "source": [
    "## References\n",
    "\n",
    "\\[1\\] Maria Schuld, Ryan Sweke, Johannes Jakob Meyer. The effect of data encoding on the expressive power of variational quantum machine learning models, 2020. [arXiv:2008.08605 [quant-ph]](https://arxiv.org/abs/2008.08605)"
   ]
  }
 ],
 "metadata": {
  "celltoolbar": "Raw Cell Format",
  "instance_type": "ml.m5.16xlarge",
  "kernelspec": {
   "display_name": "Python 3",
   "language": "python",
   "name": "python3"
  },
  "language_info": {
   "codemirror_mode": {
    "name": "ipython",
    "version": 3
   },
   "file_extension": ".py",
   "mimetype": "text/x-python",
   "name": "python",
   "nbconvert_exporter": "python",
   "pygments_lexer": "ipython3",
   "version": "3.7.4"
  }
 },
 "nbformat": 4,
 "nbformat_minor": 4
}
